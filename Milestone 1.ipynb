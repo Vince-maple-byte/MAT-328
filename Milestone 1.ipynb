{
 "cells": [
  {
   "cell_type": "code",
   "execution_count": 1,
   "id": "56cdc71f",
   "metadata": {},
   "outputs": [],
   "source": [
    "import pandas as pd\n",
    "import matplotlib.pyplot as plt\n",
    "import statsmodels.formula.api as smf\n",
    "import seaborn as sns\n",
    "import numpy as np\n",
    "\n",
    "%matplotlib inline"
   ]
  },
  {
   "cell_type": "code",
   "execution_count": 2,
   "id": "11c80865",
   "metadata": {},
   "outputs": [
    {
     "data": {
      "text/html": [
       "<div>\n",
       "<style scoped>\n",
       "    .dataframe tbody tr th:only-of-type {\n",
       "        vertical-align: middle;\n",
       "    }\n",
       "\n",
       "    .dataframe tbody tr th {\n",
       "        vertical-align: top;\n",
       "    }\n",
       "\n",
       "    .dataframe thead th {\n",
       "        text-align: right;\n",
       "    }\n",
       "</style>\n",
       "<table border=\"1\" class=\"dataframe\">\n",
       "  <thead>\n",
       "    <tr style=\"text-align: right;\">\n",
       "      <th></th>\n",
       "      <th>Unnamed: 0</th>\n",
       "      <th>ID</th>\n",
       "      <th>Title</th>\n",
       "      <th>Year</th>\n",
       "      <th>Age</th>\n",
       "      <th>IMDb</th>\n",
       "      <th>Rotten Tomatoes</th>\n",
       "      <th>Netflix</th>\n",
       "      <th>Hulu</th>\n",
       "      <th>Prime Video</th>\n",
       "      <th>Disney+</th>\n",
       "      <th>Type</th>\n",
       "    </tr>\n",
       "  </thead>\n",
       "  <tbody>\n",
       "    <tr>\n",
       "      <th>0</th>\n",
       "      <td>0</td>\n",
       "      <td>1</td>\n",
       "      <td>Breaking Bad</td>\n",
       "      <td>2008</td>\n",
       "      <td>18+</td>\n",
       "      <td>9.4/10</td>\n",
       "      <td>100/100</td>\n",
       "      <td>1</td>\n",
       "      <td>0</td>\n",
       "      <td>0</td>\n",
       "      <td>0</td>\n",
       "      <td>1</td>\n",
       "    </tr>\n",
       "    <tr>\n",
       "      <th>1</th>\n",
       "      <td>1</td>\n",
       "      <td>2</td>\n",
       "      <td>Stranger Things</td>\n",
       "      <td>2016</td>\n",
       "      <td>16+</td>\n",
       "      <td>8.7/10</td>\n",
       "      <td>96/100</td>\n",
       "      <td>1</td>\n",
       "      <td>0</td>\n",
       "      <td>0</td>\n",
       "      <td>0</td>\n",
       "      <td>1</td>\n",
       "    </tr>\n",
       "    <tr>\n",
       "      <th>2</th>\n",
       "      <td>2</td>\n",
       "      <td>3</td>\n",
       "      <td>Attack on Titan</td>\n",
       "      <td>2013</td>\n",
       "      <td>18+</td>\n",
       "      <td>9.0/10</td>\n",
       "      <td>95/100</td>\n",
       "      <td>1</td>\n",
       "      <td>1</td>\n",
       "      <td>0</td>\n",
       "      <td>0</td>\n",
       "      <td>1</td>\n",
       "    </tr>\n",
       "    <tr>\n",
       "      <th>3</th>\n",
       "      <td>3</td>\n",
       "      <td>4</td>\n",
       "      <td>Better Call Saul</td>\n",
       "      <td>2015</td>\n",
       "      <td>18+</td>\n",
       "      <td>8.8/10</td>\n",
       "      <td>94/100</td>\n",
       "      <td>1</td>\n",
       "      <td>0</td>\n",
       "      <td>0</td>\n",
       "      <td>0</td>\n",
       "      <td>1</td>\n",
       "    </tr>\n",
       "    <tr>\n",
       "      <th>4</th>\n",
       "      <td>4</td>\n",
       "      <td>5</td>\n",
       "      <td>Dark</td>\n",
       "      <td>2017</td>\n",
       "      <td>16+</td>\n",
       "      <td>8.8/10</td>\n",
       "      <td>93/100</td>\n",
       "      <td>1</td>\n",
       "      <td>0</td>\n",
       "      <td>0</td>\n",
       "      <td>0</td>\n",
       "      <td>1</td>\n",
       "    </tr>\n",
       "    <tr>\n",
       "      <th>...</th>\n",
       "      <td>...</td>\n",
       "      <td>...</td>\n",
       "      <td>...</td>\n",
       "      <td>...</td>\n",
       "      <td>...</td>\n",
       "      <td>...</td>\n",
       "      <td>...</td>\n",
       "      <td>...</td>\n",
       "      <td>...</td>\n",
       "      <td>...</td>\n",
       "      <td>...</td>\n",
       "      <td>...</td>\n",
       "    </tr>\n",
       "    <tr>\n",
       "      <th>5363</th>\n",
       "      <td>5363</td>\n",
       "      <td>5713</td>\n",
       "      <td>Paradise Islands</td>\n",
       "      <td>2017</td>\n",
       "      <td>NaN</td>\n",
       "      <td>NaN</td>\n",
       "      <td>10/100</td>\n",
       "      <td>0</td>\n",
       "      <td>0</td>\n",
       "      <td>0</td>\n",
       "      <td>1</td>\n",
       "      <td>1</td>\n",
       "    </tr>\n",
       "    <tr>\n",
       "      <th>5364</th>\n",
       "      <td>5364</td>\n",
       "      <td>5714</td>\n",
       "      <td>Mexico Untamed</td>\n",
       "      <td>2018</td>\n",
       "      <td>NaN</td>\n",
       "      <td>NaN</td>\n",
       "      <td>10/100</td>\n",
       "      <td>0</td>\n",
       "      <td>0</td>\n",
       "      <td>0</td>\n",
       "      <td>1</td>\n",
       "      <td>1</td>\n",
       "    </tr>\n",
       "    <tr>\n",
       "      <th>5365</th>\n",
       "      <td>5365</td>\n",
       "      <td>5715</td>\n",
       "      <td>Wild Centeral America</td>\n",
       "      <td>2020</td>\n",
       "      <td>NaN</td>\n",
       "      <td>NaN</td>\n",
       "      <td>10/100</td>\n",
       "      <td>0</td>\n",
       "      <td>0</td>\n",
       "      <td>0</td>\n",
       "      <td>1</td>\n",
       "      <td>1</td>\n",
       "    </tr>\n",
       "    <tr>\n",
       "      <th>5366</th>\n",
       "      <td>5366</td>\n",
       "      <td>5716</td>\n",
       "      <td>Wild Russia</td>\n",
       "      <td>2018</td>\n",
       "      <td>NaN</td>\n",
       "      <td>NaN</td>\n",
       "      <td>10/100</td>\n",
       "      <td>0</td>\n",
       "      <td>0</td>\n",
       "      <td>0</td>\n",
       "      <td>1</td>\n",
       "      <td>1</td>\n",
       "    </tr>\n",
       "    <tr>\n",
       "      <th>5367</th>\n",
       "      <td>5367</td>\n",
       "      <td>5717</td>\n",
       "      <td>Fearless Adventures with Jack Randall</td>\n",
       "      <td>2018</td>\n",
       "      <td>NaN</td>\n",
       "      <td>NaN</td>\n",
       "      <td>10/100</td>\n",
       "      <td>0</td>\n",
       "      <td>0</td>\n",
       "      <td>0</td>\n",
       "      <td>1</td>\n",
       "      <td>1</td>\n",
       "    </tr>\n",
       "  </tbody>\n",
       "</table>\n",
       "<p>5368 rows × 12 columns</p>\n",
       "</div>"
      ],
      "text/plain": [
       "      Unnamed: 0    ID                                  Title  Year  Age  \\\n",
       "0              0     1                           Breaking Bad  2008  18+   \n",
       "1              1     2                        Stranger Things  2016  16+   \n",
       "2              2     3                        Attack on Titan  2013  18+   \n",
       "3              3     4                       Better Call Saul  2015  18+   \n",
       "4              4     5                                   Dark  2017  16+   \n",
       "...          ...   ...                                    ...   ...  ...   \n",
       "5363        5363  5713                       Paradise Islands  2017  NaN   \n",
       "5364        5364  5714                         Mexico Untamed  2018  NaN   \n",
       "5365        5365  5715                  Wild Centeral America  2020  NaN   \n",
       "5366        5366  5716                            Wild Russia  2018  NaN   \n",
       "5367        5367  5717  Fearless Adventures with Jack Randall  2018  NaN   \n",
       "\n",
       "        IMDb Rotten Tomatoes  Netflix  Hulu  Prime Video  Disney+  Type  \n",
       "0     9.4/10         100/100        1     0            0        0     1  \n",
       "1     8.7/10          96/100        1     0            0        0     1  \n",
       "2     9.0/10          95/100        1     1            0        0     1  \n",
       "3     8.8/10          94/100        1     0            0        0     1  \n",
       "4     8.8/10          93/100        1     0            0        0     1  \n",
       "...      ...             ...      ...   ...          ...      ...   ...  \n",
       "5363     NaN          10/100        0     0            0        1     1  \n",
       "5364     NaN          10/100        0     0            0        1     1  \n",
       "5365     NaN          10/100        0     0            0        1     1  \n",
       "5366     NaN          10/100        0     0            0        1     1  \n",
       "5367     NaN          10/100        0     0            0        1     1  \n",
       "\n",
       "[5368 rows x 12 columns]"
      ]
     },
     "execution_count": 2,
     "metadata": {},
     "output_type": "execute_result"
    }
   ],
   "source": [
    "tv = pd.read_csv(\"tv_shows.csv\")\n",
    "tv"
   ]
  },
  {
   "cell_type": "code",
   "execution_count": 3,
   "id": "76189882",
   "metadata": {},
   "outputs": [
    {
     "data": {
      "text/plain": [
       "5368"
      ]
     },
     "execution_count": 3,
     "metadata": {},
     "output_type": "execute_result"
    }
   ],
   "source": [
    "len(tv)"
   ]
  },
  {
   "cell_type": "code",
   "execution_count": 4,
   "id": "fba1bd8d",
   "metadata": {},
   "outputs": [
    {
     "data": {
      "text/html": [
       "<div>\n",
       "<style scoped>\n",
       "    .dataframe tbody tr th:only-of-type {\n",
       "        vertical-align: middle;\n",
       "    }\n",
       "\n",
       "    .dataframe tbody tr th {\n",
       "        vertical-align: top;\n",
       "    }\n",
       "\n",
       "    .dataframe thead th {\n",
       "        text-align: right;\n",
       "    }\n",
       "</style>\n",
       "<table border=\"1\" class=\"dataframe\">\n",
       "  <thead>\n",
       "    <tr style=\"text-align: right;\">\n",
       "      <th></th>\n",
       "      <th>Unnamed: 0</th>\n",
       "      <th>ID</th>\n",
       "      <th>Year</th>\n",
       "      <th>Netflix</th>\n",
       "      <th>Hulu</th>\n",
       "      <th>Prime Video</th>\n",
       "      <th>Disney+</th>\n",
       "      <th>Type</th>\n",
       "    </tr>\n",
       "  </thead>\n",
       "  <tbody>\n",
       "    <tr>\n",
       "      <th>count</th>\n",
       "      <td>5368.000000</td>\n",
       "      <td>5368.000000</td>\n",
       "      <td>5368.000000</td>\n",
       "      <td>5368.000000</td>\n",
       "      <td>5368.000000</td>\n",
       "      <td>5368.000000</td>\n",
       "      <td>5368.000000</td>\n",
       "      <td>5368.0</td>\n",
       "    </tr>\n",
       "    <tr>\n",
       "      <th>mean</th>\n",
       "      <td>2683.500000</td>\n",
       "      <td>2814.945790</td>\n",
       "      <td>2012.628726</td>\n",
       "      <td>0.367176</td>\n",
       "      <td>0.301975</td>\n",
       "      <td>0.341095</td>\n",
       "      <td>0.065387</td>\n",
       "      <td>1.0</td>\n",
       "    </tr>\n",
       "    <tr>\n",
       "      <th>std</th>\n",
       "      <td>1549.752453</td>\n",
       "      <td>1672.385727</td>\n",
       "      <td>10.142813</td>\n",
       "      <td>0.482080</td>\n",
       "      <td>0.459157</td>\n",
       "      <td>0.474122</td>\n",
       "      <td>0.247231</td>\n",
       "      <td>0.0</td>\n",
       "    </tr>\n",
       "    <tr>\n",
       "      <th>min</th>\n",
       "      <td>0.000000</td>\n",
       "      <td>1.000000</td>\n",
       "      <td>1904.000000</td>\n",
       "      <td>0.000000</td>\n",
       "      <td>0.000000</td>\n",
       "      <td>0.000000</td>\n",
       "      <td>0.000000</td>\n",
       "      <td>1.0</td>\n",
       "    </tr>\n",
       "    <tr>\n",
       "      <th>25%</th>\n",
       "      <td>1341.750000</td>\n",
       "      <td>1345.750000</td>\n",
       "      <td>2011.000000</td>\n",
       "      <td>0.000000</td>\n",
       "      <td>0.000000</td>\n",
       "      <td>0.000000</td>\n",
       "      <td>0.000000</td>\n",
       "      <td>1.0</td>\n",
       "    </tr>\n",
       "    <tr>\n",
       "      <th>50%</th>\n",
       "      <td>2683.500000</td>\n",
       "      <td>2788.000000</td>\n",
       "      <td>2016.000000</td>\n",
       "      <td>0.000000</td>\n",
       "      <td>0.000000</td>\n",
       "      <td>0.000000</td>\n",
       "      <td>0.000000</td>\n",
       "      <td>1.0</td>\n",
       "    </tr>\n",
       "    <tr>\n",
       "      <th>75%</th>\n",
       "      <td>4025.250000</td>\n",
       "      <td>4308.250000</td>\n",
       "      <td>2018.000000</td>\n",
       "      <td>1.000000</td>\n",
       "      <td>1.000000</td>\n",
       "      <td>1.000000</td>\n",
       "      <td>0.000000</td>\n",
       "      <td>1.0</td>\n",
       "    </tr>\n",
       "    <tr>\n",
       "      <th>max</th>\n",
       "      <td>5367.000000</td>\n",
       "      <td>5717.000000</td>\n",
       "      <td>2021.000000</td>\n",
       "      <td>1.000000</td>\n",
       "      <td>1.000000</td>\n",
       "      <td>1.000000</td>\n",
       "      <td>1.000000</td>\n",
       "      <td>1.0</td>\n",
       "    </tr>\n",
       "  </tbody>\n",
       "</table>\n",
       "</div>"
      ],
      "text/plain": [
       "        Unnamed: 0           ID         Year      Netflix         Hulu  \\\n",
       "count  5368.000000  5368.000000  5368.000000  5368.000000  5368.000000   \n",
       "mean   2683.500000  2814.945790  2012.628726     0.367176     0.301975   \n",
       "std    1549.752453  1672.385727    10.142813     0.482080     0.459157   \n",
       "min       0.000000     1.000000  1904.000000     0.000000     0.000000   \n",
       "25%    1341.750000  1345.750000  2011.000000     0.000000     0.000000   \n",
       "50%    2683.500000  2788.000000  2016.000000     0.000000     0.000000   \n",
       "75%    4025.250000  4308.250000  2018.000000     1.000000     1.000000   \n",
       "max    5367.000000  5717.000000  2021.000000     1.000000     1.000000   \n",
       "\n",
       "       Prime Video      Disney+    Type  \n",
       "count  5368.000000  5368.000000  5368.0  \n",
       "mean      0.341095     0.065387     1.0  \n",
       "std       0.474122     0.247231     0.0  \n",
       "min       0.000000     0.000000     1.0  \n",
       "25%       0.000000     0.000000     1.0  \n",
       "50%       0.000000     0.000000     1.0  \n",
       "75%       1.000000     0.000000     1.0  \n",
       "max       1.000000     1.000000     1.0  "
      ]
     },
     "execution_count": 4,
     "metadata": {},
     "output_type": "execute_result"
    }
   ],
   "source": [
    "tv.describe()"
   ]
  },
  {
   "cell_type": "code",
   "execution_count": 5,
   "id": "65fb9751",
   "metadata": {},
   "outputs": [
    {
     "data": {
      "text/plain": [
       "Unnamed: 0          int64\n",
       "ID                  int64\n",
       "Title              object\n",
       "Year                int64\n",
       "Age                object\n",
       "IMDb               object\n",
       "Rotten Tomatoes    object\n",
       "Netflix             int64\n",
       "Hulu                int64\n",
       "Prime Video         int64\n",
       "Disney+             int64\n",
       "Type                int64\n",
       "dtype: object"
      ]
     },
     "execution_count": 5,
     "metadata": {},
     "output_type": "execute_result"
    }
   ],
   "source": [
    "tv.dtypes"
   ]
  },
  {
   "cell_type": "code",
   "execution_count": 6,
   "id": "f52a2e5c",
   "metadata": {},
   "outputs": [
    {
     "data": {
      "text/html": [
       "<div>\n",
       "<style scoped>\n",
       "    .dataframe tbody tr th:only-of-type {\n",
       "        vertical-align: middle;\n",
       "    }\n",
       "\n",
       "    .dataframe tbody tr th {\n",
       "        vertical-align: top;\n",
       "    }\n",
       "\n",
       "    .dataframe thead th {\n",
       "        text-align: right;\n",
       "    }\n",
       "</style>\n",
       "<table border=\"1\" class=\"dataframe\">\n",
       "  <thead>\n",
       "    <tr style=\"text-align: right;\">\n",
       "      <th></th>\n",
       "      <th>Unnamed: 0</th>\n",
       "      <th>ID</th>\n",
       "      <th>Title</th>\n",
       "      <th>Year</th>\n",
       "      <th>Age</th>\n",
       "      <th>IMDb</th>\n",
       "      <th>Rotten Tomatoes</th>\n",
       "      <th>Netflix</th>\n",
       "      <th>Hulu</th>\n",
       "      <th>Prime Video</th>\n",
       "      <th>Disney+</th>\n",
       "      <th>Type</th>\n",
       "    </tr>\n",
       "  </thead>\n",
       "  <tbody>\n",
       "    <tr>\n",
       "      <th>0</th>\n",
       "      <td>0</td>\n",
       "      <td>1</td>\n",
       "      <td>Breaking Bad</td>\n",
       "      <td>2008</td>\n",
       "      <td>18+</td>\n",
       "      <td>9.4</td>\n",
       "      <td>100</td>\n",
       "      <td>1</td>\n",
       "      <td>0</td>\n",
       "      <td>0</td>\n",
       "      <td>0</td>\n",
       "      <td>1</td>\n",
       "    </tr>\n",
       "    <tr>\n",
       "      <th>1</th>\n",
       "      <td>1</td>\n",
       "      <td>2</td>\n",
       "      <td>Stranger Things</td>\n",
       "      <td>2016</td>\n",
       "      <td>16+</td>\n",
       "      <td>8.7</td>\n",
       "      <td>96</td>\n",
       "      <td>1</td>\n",
       "      <td>0</td>\n",
       "      <td>0</td>\n",
       "      <td>0</td>\n",
       "      <td>1</td>\n",
       "    </tr>\n",
       "    <tr>\n",
       "      <th>2</th>\n",
       "      <td>2</td>\n",
       "      <td>3</td>\n",
       "      <td>Attack on Titan</td>\n",
       "      <td>2013</td>\n",
       "      <td>18+</td>\n",
       "      <td>9.0</td>\n",
       "      <td>95</td>\n",
       "      <td>1</td>\n",
       "      <td>1</td>\n",
       "      <td>0</td>\n",
       "      <td>0</td>\n",
       "      <td>1</td>\n",
       "    </tr>\n",
       "    <tr>\n",
       "      <th>3</th>\n",
       "      <td>3</td>\n",
       "      <td>4</td>\n",
       "      <td>Better Call Saul</td>\n",
       "      <td>2015</td>\n",
       "      <td>18+</td>\n",
       "      <td>8.8</td>\n",
       "      <td>94</td>\n",
       "      <td>1</td>\n",
       "      <td>0</td>\n",
       "      <td>0</td>\n",
       "      <td>0</td>\n",
       "      <td>1</td>\n",
       "    </tr>\n",
       "    <tr>\n",
       "      <th>4</th>\n",
       "      <td>4</td>\n",
       "      <td>5</td>\n",
       "      <td>Dark</td>\n",
       "      <td>2017</td>\n",
       "      <td>16+</td>\n",
       "      <td>8.8</td>\n",
       "      <td>93</td>\n",
       "      <td>1</td>\n",
       "      <td>0</td>\n",
       "      <td>0</td>\n",
       "      <td>0</td>\n",
       "      <td>1</td>\n",
       "    </tr>\n",
       "  </tbody>\n",
       "</table>\n",
       "</div>"
      ],
      "text/plain": [
       "   Unnamed: 0  ID             Title  Year  Age  IMDb  Rotten Tomatoes  \\\n",
       "0           0   1      Breaking Bad  2008  18+   9.4              100   \n",
       "1           1   2   Stranger Things  2016  16+   8.7               96   \n",
       "2           2   3   Attack on Titan  2013  18+   9.0               95   \n",
       "3           3   4  Better Call Saul  2015  18+   8.8               94   \n",
       "4           4   5              Dark  2017  16+   8.8               93   \n",
       "\n",
       "   Netflix  Hulu  Prime Video  Disney+  Type  \n",
       "0        1     0            0        0     1  \n",
       "1        1     0            0        0     1  \n",
       "2        1     1            0        0     1  \n",
       "3        1     0            0        0     1  \n",
       "4        1     0            0        0     1  "
      ]
     },
     "execution_count": 6,
     "metadata": {},
     "output_type": "execute_result"
    }
   ],
   "source": [
    "tv[\"IMDb\"] = tv[\"IMDb\"].str.replace(\"/10\",\"\")\n",
    "tv[\"IMDb\"] = tv[\"IMDb\"].astype(float)\n",
    "tv[\"Rotten Tomatoes\"] = tv[\"Rotten Tomatoes\"].str.replace(\"/100\",\"\")\n",
    "tv[\"Rotten Tomatoes\"] = tv[\"Rotten Tomatoes\"].astype(int)\n",
    "tv.head()"
   ]
  },
  {
   "cell_type": "code",
   "execution_count": null,
   "id": "9f70921c",
   "metadata": {},
   "outputs": [],
   "source": [
    " #Now that all of the data frame is cleaned, we can proceed to exploratory analysis"
   ]
  },
  {
   "cell_type": "code",
   "execution_count": 12,
   "id": "22912b68",
   "metadata": {},
   "outputs": [
    {
     "data": {
      "text/plain": [
       "Text(0, 0.5, 'Number of shows')"
      ]
     },
     "execution_count": 12,
     "metadata": {},
     "output_type": "execute_result"
    },
    {
     "data": {
      "image/png": "[encoded data removed]",
      "text/plain": [
       "<Figure size 432x288 with 1 Axes>"
      ]
     },
     "metadata": {
      "needs_background": "light"
     },
     "output_type": "display_data"
    }
   ],
   "source": [
    "tv[\"Rotten Tomatoes\"].hist()\n",
    "plt.title(\"Distribution of Show Ratings on Rotten Tomatoes\")\n",
    "plt.xlabel(\"Ratings\")\n",
    "plt.ylabel(\"Number of shows\")"
   ]
  },
  {
   "cell_type": "code",
   "execution_count": 13,
   "id": "aa2e5cca",
   "metadata": {},
   "outputs": [
    {
     "data": {
      "text/plain": [
       "Text(0, 0.5, 'Number of shows')"
      ]
     },
     "execution_count": 13,
     "metadata": {},
     "output_type": "execute_result"
    },
    {
     "data": {
      "image/png": "[encoded data removed]",
      "text/plain": [
       "<Figure size 432x288 with 1 Axes>"
      ]
     },
     "metadata": {
      "needs_background": "light"
     },
     "output_type": "display_data"
    }
   ],
   "source": [
    "tv[\"IMDb\"].hist()\n",
    "plt.title(\"Distribution of Show Ratings on IMDb\")\n",
    "plt.xlabel(\"Ratings\")\n",
    "plt.ylabel(\"Number of shows\")"
   ]
  },
  {
   "cell_type": "code",
   "execution_count": 14,
   "id": "5551c41b",
   "metadata": {},
   "outputs": [
    {
     "data": {
      "text/plain": [
       "Text(0, 0.5, 'Number of shows')"
      ]
     },
     "execution_count": 14,
     "metadata": {},
     "output_type": "execute_result"
    },
    {
     "data": {
      "image/png": "[encoded data removed]",
      "text/plain": [
       "<Figure size 432x288 with 1 Axes>"
      ]
     },
     "metadata": {
      "needs_background": "light"
     },
     "output_type": "display_data"
    }
   ],
   "source": [
    "tv[\"Year\"].hist()\n",
    "plt.title(\"Distribution of the Years the show was produced\")\n",
    "plt.xlabel(\"Year\")\n",
    "plt.ylabel(\"Number of shows\")"
   ]
  },
  {
   "cell_type": "code",
   "execution_count": 15,
   "id": "e57111d4",
   "metadata": {},
   "outputs": [
    {
     "data": {
      "text/plain": [
       "Text(0, 0.5, 'Number of shows')"
      ]
     },
     "execution_count": 15,
     "metadata": {},
     "output_type": "execute_result"
    },
    {
     "data": {
      "image/png": "[encoded data removed]",
      "text/plain": [
       "<Figure size 432x288 with 1 Axes>"
      ]
     },
     "metadata": {
      "needs_background": "light"
     },
     "output_type": "display_data"
    }
   ],
   "source": [
    "hulu_count = tv[\"Hulu\"].value_counts()\n",
    "hulu_count.plot(kind = \"bar\")\n",
    "plt.title(\"Distribution of Shows On Hulu\")\n",
    "plt.xlabel(\"Whether the shows is in hulu or now\")\n",
    "plt.ylabel(\"Number of shows\")"
   ]
  },
  {
   "cell_type": "code",
   "execution_count": null,
   "id": "122b92b7",
   "metadata": {},
   "outputs": [],
   "source": []
  }
 ],
 "metadata": {
  "kernelspec": {
   "display_name": "Python 3",
   "language": "python",
   "name": "python3"
  },
  "language_info": {
   "codemirror_mode": {
    "name": "ipython",
    "version": 3
   },
   "file_extension": ".py",
   "mimetype": "text/x-python",
   "name": "python",
   "nbconvert_exporter": "python",
   "pygments_lexer": "ipython3",
   "version": "3.8.8"
  }
 },
 "nbformat": 4,
 "nbformat_minor": 5
}
